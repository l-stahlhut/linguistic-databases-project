{
 "nbformat": 4,
 "nbformat_minor": 0,
 "metadata": {
  "colab": {
   "name": "Mulitple_choice_draft.ipynb",
   "provenance": []
  },
  "kernelspec": {
   "name": "python3",
   "language": "python",
   "display_name": "Python 3"
  },
  "language_info": {
   "name": "python"
  }
 },
 "cells": [
  {
   "cell_type": "markdown",
   "source": [
    "#Mulitple Choice Game\n",
    "Some initial explorations...\n"
   ],
   "metadata": {
    "id": "xWhJx8Rjk2lB"
   }
  },
  {
   "cell_type": "code",
   "source": [
    "import nltk\n",
    "nltk.download(\"wordnet\")\n",
    "nltk.download(\"punkt\")  # tokenizer\n",
    "nltk.download('omw-1.4')  # open multilingual wordnet\n",
    "nltk.download('averaged_perceptron_tagger')\n",
    "from nltk.corpus import wordnet as wn"
   ],
   "metadata": {
    "colab": {
     "base_uri": "https://localhost:8080/"
    },
    "id": "gmG-fW5SpJi0",
    "outputId": "e947b7de-0735-43e2-a5d0-dfd9852b0778"
   },
   "execution_count": 2,
   "outputs": [
    {
     "name": "stderr",
     "output_type": "stream",
     "text": [
      "[nltk_data] Downloading package wordnet to\n",
      "[nltk_data]     C:\\Users\\debor\\AppData\\Roaming\\nltk_data...\n",
      "[nltk_data]   Package wordnet is already up-to-date!\n",
      "[nltk_data] Downloading package punkt to\n",
      "[nltk_data]     C:\\Users\\debor\\AppData\\Roaming\\nltk_data...\n",
      "[nltk_data]   Package punkt is already up-to-date!\n",
      "[nltk_data] Downloading package omw-1.4 to\n",
      "[nltk_data]     C:\\Users\\debor\\AppData\\Roaming\\nltk_data...\n",
      "[nltk_data]   Package omw-1.4 is already up-to-date!\n",
      "[nltk_data] Downloading package averaged_perceptron_tagger to\n",
      "[nltk_data]     C:\\Users\\debor\\AppData\\Roaming\\nltk_data...\n",
      "[nltk_data]   Package averaged_perceptron_tagger is already up-to-\n",
      "[nltk_data]       date!\n"
     ]
    }
   ]
  },
  {
   "cell_type": "code",
   "source": [
    "# exploring wordnet\n",
    "for s in wn.synsets('knife'): \n",
    "  print(s, s.definition())"
   ],
   "metadata": {
    "colab": {
     "base_uri": "https://localhost:8080/"
    },
    "id": "B0AQRbmapoYd",
    "outputId": "83ada2cd-511a-46c0-cd44-438226c3726e"
   },
   "execution_count": 3,
   "outputs": [
    {
     "name": "stdout",
     "output_type": "stream",
     "text": [
      "Synset('knife.n.01') edge tool used as a cutting instrument; has a pointed blade with a sharp edge and a handle\n",
      "Synset('knife.n.02') a weapon with a handle and blade with a sharp point\n",
      "Synset('tongue.n.03') any long thin projection that is transient\n",
      "Synset('knife.v.01') use a knife on\n"
     ]
    }
   ]
  },
  {
   "cell_type": "code",
   "source": [
    "# Create a list of Questions and answers\n",
    "# Dummy version --> scrape this from WordNet\n",
    "question_prompts2 = [\n",
    "    [\"What is a table?\", \n",
    "     {'a': str(wn.synset('table.n.02').definition()), \n",
    "     'b': str(wn.synset('plate.n.04').definition()),\n",
    "     'c': str(wn.synset('dish.n.02').definition()) ,\n",
    "     'd': str(wn.synset('blackboard.n.01').definition())}\n",
    "     ],\n",
    "    [\"What is a dish?\", \n",
    "     {'a': str(wn.synset('laundry.n.02').definition()), \n",
    "     'b': str(wn.synset('dish.n.02').definition()),\n",
    "     'c': str(wn.synset('antenna.n.01').definition()),\n",
    "     'd': str(wn.synset('table.n.02').definition())}\n",
    "      ],\n",
    "    [\"What is a fork?\", \n",
    "     {'a': str(wn.synset('knife.n.02').definition()), \n",
    "     'b': str(wn.synset('torch.n.01').definition()),\n",
    "     'c': str(wn.synset('fork.n.01').definition()),\n",
    "     'd': str(wn.synset('table.n.02').definition())}\n",
    "      ]\n",
    "]"
   ],
   "metadata": {
    "id": "krkl0DLIrOVc"
   },
   "execution_count": 4,
   "outputs": []
  },
  {
   "cell_type": "code",
   "source": [
    "# Create Question class\n",
    "class Question:\n",
    "  \"\"\"For now, this is made for questions with two correct and two wrong answers.\"\"\"\n",
    "  def __init__(self, question, prompts, answer):\n",
    "    self.question = question\n",
    "    self.prompts = prompts\n",
    "    self.answer = answer # correct answer\n",
    "    "
   ],
   "metadata": {
    "id": "yhD6p95EvzHl"
   },
   "execution_count": 5,
   "outputs": []
  },
  {
   "cell_type": "code",
   "source": [
    "# question list contains Question class objects\n",
    "questions = [\n",
    "  Question(question_prompts2[0][0], question_prompts2[0][1], \"a\"), \n",
    "  Question(question_prompts2[1][0], question_prompts2[1][1], \"b\"),\n",
    "  Question(question_prompts2[2][0], question_prompts2[2][1], \"c\")\n",
    "]\n"
   ],
   "metadata": {
    "id": "tiWnlFN1tNh0"
   },
   "execution_count": 6,
   "outputs": []
  },
  {
   "cell_type": "code",
   "source": [
    "def run_test(questions):\n",
    "  \"\"\"Run the test with a list of Question objects and return a score.\"\"\"\n",
    "\n",
    "  print(\"Which definition fits the best?\\n\\n\")\n",
    "  score = 0 # increase if a correct answer has been given\n",
    "\n",
    "  for question in questions: \n",
    "    print(\"\\n\", question.question)\n",
    "\n",
    "    for a, p in question.prompts.items():\n",
    "      print(a, \") \", p)\n",
    "    \n",
    "    answer = input(\"a, b, c or d?\\t\")\n",
    "    \n",
    "    if answer == question.answer:\n",
    "      score+=1\n",
    "  \n",
    "  print(\"\\nYou got \", str(score), \"/\", str(len(questions)), \" correct.\")\n",
    "  \n",
    "run_test(questions)"
   ],
   "metadata": {
    "colab": {
     "base_uri": "https://localhost:8080/"
    },
    "id": "VVvk4brP1iCN",
    "outputId": "fe23e341-6d43-4594-ff3a-130092bb53f5"
   },
   "execution_count": 7,
   "outputs": [
    {
     "name": "stdout",
     "output_type": "stream",
     "text": [
      "Which definition fits the best?\n",
      "\n",
      "\n",
      "\n",
      " What is a table?\n",
      "a )  a piece of furniture having a smooth flat top that is usually supported by one or more vertical legs\n",
      "b )  dish on which food is served or from which food is eaten\n",
      "c )  a particular item of prepared food\n",
      "d )  sheet of slate; for writing with chalk\n",
      "\n",
      " What is a dish?\n",
      "a )  workplace where clothes are washed and ironed\n",
      "b )  a particular item of prepared food\n",
      "c )  an electrical device that sends or receives radio or television signals\n",
      "d )  a piece of furniture having a smooth flat top that is usually supported by one or more vertical legs\n",
      "\n",
      " What is a fork?\n",
      "a )  a weapon with a handle and blade with a sharp point\n",
      "b )  a light usually carried in the hand; consists of some flammable substance\n",
      "c )  cutlery used for serving and eating food\n",
      "d )  a piece of furniture having a smooth flat top that is usually supported by one or more vertical legs\n",
      "\n",
      "You got  1 / 3  correct.\n"
     ]
    }
   ]
  },
  {
   "cell_type": "code",
   "source": [
    ""
   ],
   "metadata": {
    "id": "zLXQdeH05I9B"
   },
   "execution_count": 7,
   "outputs": []
  }
 ]
}